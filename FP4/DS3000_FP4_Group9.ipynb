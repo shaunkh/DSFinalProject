{
  "cells":[
    {
      "cell_type":"markdown",
      "source":[
        "<center> <h2> DS 3000 - Fall 2021<\/h2> <\/center>\n",
        "<center> <h3> DS Report <\/h3> <\/center>"
      ],
      "attachments":{
        
      },
      "metadata":{
        
      }
    },
    {
      "cell_type":"markdown",
      "source":[
        "<center> <h3>Predicting Start Up Success<\/h3> <\/center>\n",
        "<center><h4>Shaun Khundker, Terry Chen, Lauren MacIver<\/h4><\/center>"
      ],
      "attachments":{
        
      },
      "metadata":{
        
      }
    },
    {
      "cell_type":"markdown",
      "source":[
        "  "
      ],
      "attachments":{
        
      },
      "metadata":{
        
      }
    },
    {
      "cell_type":"markdown",
      "source":[
        "<hr style=\"height:2px; border:none; color:black; background-color:black;\">"
      ],
      "attachments":{
        
      },
      "metadata":{
        
      }
    },
    {
      "cell_type":"markdown",
      "source":[
        "#### Executive Summary:\n",
        "\n",
        "Add your summary here (100-150 words)\n",
        "\n",
        "Provide a brief summary of your project. After reading this executive summary, your readers should have a rough understanding of what you did in this project. You can think of this summary in terms of the four sections of the report and write 1-2 sentences describing each section.\n"
        
      ],
      "attachments":{
        
      },
      "metadata":{
        
      }
    },
    {
      "cell_type":"markdown",
      "source":[
        "<hr style=\"height:2px; border:none; color:black; background-color:black;\">"
      ],
      "attachments":{
        
      },
      "metadata":{
        
      }
    },
    {
      "cell_type":"markdown",
      "source":[
        "## Outline\n",
        "1. <a href='#1'>INTRODUCTION<\/a>\n",
        "2. <a href='#2'>METHOD<\/a>\n",
        "3. <a href='#3'>RESULTS<\/a>\n",
        "4. <a href='#4'>DISCUSSION<\/a>"
      ],
      "attachments":{
        
      },
      "metadata":{
        
      }
    },
    {
      "cell_type":"markdown",
      "source":[
        "<a id=\"1\"><\/a>\n",
        "<hr style=\"height:2px; border:none; color:black; background-color:black;\">"
      ],
      "attachments":{
        
      },
      "metadata":{
        
      }
    },
    {
      "cell_type":"markdown",
      "source":[
        "## 1. INTRODUCTION"
      ],
      "attachments":{
        
      },
      "metadata":{
        
      }
    },
    {
      "cell_type":"markdown",
      "source":[
        "\n",
        "\n",
        "<h4>Problem Statement<\/h4>\n",
        "\n",
        "Investors aim to identify unicorn companies with high valuations among a large pool of investment options. Venture capitalism has historically been focused on sourcing relationships with founders, conducting due diligence, and often basing investment decisions on intuition and experience rather than data. With the increased availability of start up information, we aim to develop a concrete model to support investors in determining the likelihood of start up success. We hope to gain a greater understanding of the key considerations of due diligence and how to best leverage these data points to create an accurate predictive model. \n",
        "\n",
        "<h4>Significance of the Problem<\/h4>\n",
        "\n",
        "Historically, failure is a costly but effective way to train a venture capitalist. With increased access to data surrounding early stage companies, leveraging machine learning models in venture capital is a powerful mechanism to supplement an intuition based industry. The insights from this project would allow for an increased rate of identification of potential unicorn companies that ultimately improve product offerings to consumers. When coupled with proper data and human intuition, machine learning models in venture capital can challenge biases and improve  accuracy in predicting start-up potential. Many firms are already shifting to a data driven approach and have seen successful returns in response. However, the majority of firms utilize these datasets as search engines to locate potential deals leaving a demand for machine learning models that identify key indicators of potential unicorn companies in early stage investments. \n",
        "\n",
        "\n",
        "\n",
        "\n",
        "\n",
        "\n",
        "\n",
        "<h4>Questions<\/h4>\n",
        "\n",
        "Given the aforementioned problem and its importance, we set out to tackle the following questions: \n",
        "\n",
        "* Can we predict whether a startup suceeds (is acquired) or fails (closes down) based on some characteristics of the startup?\n",
        "* Is k-Nearest Neighbors better than Support Vector Machines and Decision Trees in predicting start up success based on performance accuracy?\n",
        "* Which features most greatly influence the outcome variable? Are there a subset of features that are strongly correlated to the target?\n",
        "* Will feature selection improve overall model performance?\n",
        "\n",
        "<h4>Hypotheses<\/h4>",
        "\n",
        "Null: The success of a startup and its funding features have no relationship (H1,0). \n",
        "Alternative: The success of a startup and its funding features have a relationship (H1,1). \n",
        "\n",
        "Null: The success of a startup and the market that it is in have no relationship (H2, 0). \n",
        "Alternative: The success of a startup and the market that it is in have a relationship (H2, 1). \n",
        "\n"
      
      ],
      "attachments":{
        
      },
      "metadata":{
        
      }
    },
    {
      "cell_type":"markdown",
      "source":[
        "<a id=\"2\"><\/a>\n",
        "<hr style=\"height:2px; border:none; color:black; background-color:black;\">"
      ],
      "attachments":{
        
      },
      "metadata":{
        
      }
    },
    {
      "cell_type":"markdown",
      "source":[
        "## 2. METHOD"
      ],
      "attachments":{
        
      },
      "metadata":{
        
      }
    },
    {
      "cell_type":"markdown",
      "source":[
        "### 2.1. Data Acquisition\n",
        "The dataset was obtained using [Kaggle](https:\/\/www.kaggle.com\/arindam235\/startup-investments-crunchbase) and contains information intially pulled from Crunchbase, an information platform for public and private company data. The dataset contains XXXX samples of startups and 30 variables as described below. Status is the outcome variable.\n",
        "\n",
        "| **Variable** | **Description** |  \n",
        "| --- | --- | --- |\n",
        "| name | name of startup |\n",
        "| market | industry of startup |\n",
        "| funding_total | total funding raised by startup in USD |\n",
        "| state_code | the state in which the startup is located |\n",
        "| funding_rounds | number of funding rounds |\n",
        "| founded_at | date (year\/month\/date) the startup was founded|\n",
        "| first_funding_at | date (year\/month\/date) the startup got its first funding |\n",
        "| last_funding_at | date (year\/month\/date) the startup got its last funding |\n",
        "| seed | funding raised during seed round in USD |\n",
        "| venture | total venture funding amount |\n",
        "| undisclosed | undisclosed funding in USD |\n",
        "| convertible_note | funding raised using convertible notes in USD |\n",
        "| debt_financing | total debt financing amount in USD |\n",
        "| angel | funding raised by angles in USD |\n",
        "| grant | funding raised through grants in USD |\n",
        "| private_equity | funding raised by private equity in USD |\n",
        "| post_ipo_equity |amount of funding raised after going public in USD|\n",
        "| post_ipo_debt |amount of debt financing after going public in USD |\n",
        "| secondary_market |amount of funding raised through secondary market in USD |\n",
        "| product_crowdfunding |amount of funding raised through product crowdfunding in USD|\n",
        "| round A |amount of funding raised from round A in USD |\n",
        "| round B |amount of funding raised from round B in USD |\n",
        "| round C |amount of funding raised from round C in USD |\n",
        "| round D |amount of funding raised from round D in USD |\n",
        "| round E |amount of funding raised from round E in USD |\n",
        "| round F |amount of funding raised from round F in USD |\n",
        "| round G |amount of funding raised from round G in USD |\n",
        "| round H |amount of funding raised from round H in USD |\n",
        "| *status* | *whether the startup is acquired or closed* |"
      ],
      "attachments":{
        
      },
      "metadata":{
        
      }
    },
    {
      "cell_type":"markdown",
      "source":[
        "### 2.2. Data Analysis\n",
        "* Describe your predictive model in greater detail. What outcome variable are you going to predict from what feature variables? Why do you think those are important predictors?\n",
        "* Describe why this is a supervised ML problem and identify the sub-category of the learning task (e.g. classification).\n",
        "* What machine learning algorithms are you going to use? **Why?** You should list at least three algorithms. Provide a brief description of each algorithm and explain why you think they are appropriate for your data.\n",
        "\n",
        "As mentioned above, this project aims to predict start up status (closed or acquired). The remaining 29 feature variables are important predictors as they provide additional information on aspects that can play a significant role in a startup's ability to succeed such as funding totals and different funding rounds, market, and state of origin. \n",
        "\n",
        "This is a supervised machine learning problem as we will be developing a predictive model based on both input data (labeled start up feature variables) and output data (start up status). Our project is tackling a classification problem because we are predicting which startups will succeed given a set of labeled feature variables like the amount of funding raised. Our target label, whether the startups succeed or not, is binary and categorical and therefore a classification problem. \n",
        "\n",
        "We are planning to try k-Nearest Neighbors, Linear SVC and Decision Trees. K-Nearest Neighbors algorithm has the underlying assumption that items in close proximity to one another are similar and leverages distance to classify new samples. Linear Support Vector Classification attempts to draw a hyperplane in which the support vector margins are as large as possible. The support vectors are the most useful data points because they are the ones most likely to be incorrectly classified. Decision trees are rule based classifiers that assume that initially, at the root, all the training data is examined. The data is continually split until all data points are isolated to a class.  We are going to try all these because we do not have reason to think that one is better than the other; however, we have chosen to omit the Naive Bayes algorithm because features are not all equally important. \n",
        "\n"
      ],
      "attachments":{
        
      },
      "metadata":{
        
      }
    },
    {
      "cell_type":"markdown",
      "source":[
        "Predictive model TODO"
      ],
      "attachments":{
        
      },
      "metadata":{
        
      }
    },
    {
      "cell_type":"markdown",
      "source":[
        "<a id=\"3\"><\/a>\n",
        "<hr style=\"height:2px; border:none; color:black; background-color:black;\">"
      ],
      "attachments":{
        
      },
      "metadata":{
        
      }
    },
    {
      "cell_type":"markdown",
      "source":[
        "## 3. RESULTS"
      ],
      "attachments":{
        
      },
      "metadata":{
        
      }
    },
    {
      "cell_type":"markdown",
      "source":[
        "### 3.1. Data Wrangling\n",
        "In this section, you should do the following and explain why you are doing what you are doing. For each, you should include your code in a cell, followed by a sample output. For instance, if you are one-hot encoding one of your variables, you should first describe what it is and why you are doing it. You should then include your code in a cell, and the sample output should be available as well.\n",
        "\n",
        "Do at least three of the following:\n",
        "* Perform simple data cleaning (delete extra columns, deal with NA values, etc.)\n",
        "* Perform data wrangling to get your features and target values (e.g., grouping your dataframe by columns, applying functions to format dataframes, etc.)\n",
        "* Preprocess your variables (e.g., scaling\/transforming feature variables to normalize them)\n",
        "* Perform feature extraction (dummy variables, new features from existing features, etc.)"
      ],
      "attachments":{
        
      },
      "metadata":{
        
      }
    },
    {
      "cell_type":"code",
      "source":[
        "import pandas as pd\n",
        "import numpy as np\n",
        "\n",
        "df = pd.read_csv(\"https:\/\/raw.githubusercontent.com\/shaunkh\/DSFinalProject\/main\/investments_VC.csv\", encoding= 'unicode_escape')\n",
        "df"
      ],
      "execution_count":1,
      "outputs":[
        {
          "data":{
            "text\/html":[
              "<div>\n",
              "<style scoped>\n",
              "    .dataframe tbody tr th:only-of-type {\n",
              "        vertical-align: middle;\n",
              "    }\n",
              "\n",
              "    .dataframe tbody tr th {\n",
              "        vertical-align: top;\n",
              "    }\n",
              "\n",
              "    .dataframe thead th {\n",
              "        text-align: right;\n",
              "    }\n",
              "<\/style>\n",
              "<table border=\"1\" class=\"dataframe\">\n",
              "  <thead>\n",
              "    <tr style=\"text-align: right;\">\n",
              "      <th><\/th>\n",
              "      <th>permalink<\/th>\n",
              "      <th>name<\/th>\n",
              "      <th>homepage_url<\/th>\n",
              "      <th>category_list<\/th>\n",
              "      <th>market<\/th>\n",
              "      <th>funding_total_usd<\/th>\n",
              "      <th>status<\/th>\n",
              "      <th>country_code<\/th>\n",
              "      <th>state_code<\/th>\n",
              "      <th>region<\/th>\n",
              "      <th>...<\/th>\n",
              "      <th>secondary_market<\/th>\n",
              "      <th>product_crowdfunding<\/th>\n",
              "      <th>round_A<\/th>\n",
              "      <th>round_B<\/th>\n",
              "      <th>round_C<\/th>\n",
              "      <th>round_D<\/th>\n",
              "      <th>round_E<\/th>\n",
              "      <th>round_F<\/th>\n",
              "      <th>round_G<\/th>\n",
              "      <th>round_H<\/th>\n",
              "    <\/tr>\n",
              "  <\/thead>\n",
              "  <tbody>\n",
              "    <tr>\n",
              "      <th>0<\/th>\n",
              "      <td>\/organization\/waywire<\/td>\n",
              "      <td>#waywire<\/td>\n",
              "      <td>http:\/\/www.waywire.com<\/td>\n",
              "      <td>|Entertainment|Politics|Social Media|News|<\/td>\n",
              "      <td>News<\/td>\n",
              "      <td>17,50,000<\/td>\n",
              "      <td>acquired<\/td>\n",
              "      <td>USA<\/td>\n",
              "      <td>NY<\/td>\n",
              "      <td>New York City<\/td>\n",
              "      <td>...<\/td>\n",
              "      <td>0.0<\/td>\n",
              "      <td>0.0<\/td>\n",
              "      <td>0.0<\/td>\n",
              "      <td>0.0<\/td>\n",
              "      <td>0.0<\/td>\n",
              "      <td>0.0<\/td>\n",
              "      <td>0.0<\/td>\n",
              "      <td>0.0<\/td>\n",
              "      <td>0.0<\/td>\n",
              "      <td>0.0<\/td>\n",
              "    <\/tr>\n",
              "    <tr>\n",
              "      <th>1<\/th>\n",
              "      <td>\/organization\/tv-communications<\/td>\n",
              "      <td>&amp;TV Communications<\/td>\n",
              "      <td>http:\/\/enjoyandtv.com<\/td>\n",
              "      <td>|Games|<\/td>\n",
              "      <td>Games<\/td>\n",
              "      <td>40,00,000<\/td>\n",
              "      <td>operating<\/td>\n",
              "      <td>USA<\/td>\n",
              "      <td>CA<\/td>\n",
              "      <td>Los Angeles<\/td>\n",
              "      <td>...<\/td>\n",
              "      <td>0.0<\/td>\n",
              "      <td>0.0<\/td>\n",
              "      <td>0.0<\/td>\n",
              "      <td>0.0<\/td>\n",
              "      <td>0.0<\/td>\n",
              "      <td>0.0<\/td>\n",
              "      <td>0.0<\/td>\n",
              "      <td>0.0<\/td>\n",
              "      <td>0.0<\/td>\n",
              "      <td>0.0<\/td>\n",
              "    <\/tr>\n",
              "    <tr>\n",
              "      <th>2<\/th>\n",
              "      <td>\/organization\/rock-your-paper<\/td>\n",
              "      <td>'Rock' Your Paper<\/td>\n",
              "      <td>http:\/\/www.rockyourpaper.org<\/td>\n",
              "      <td>|Publishing|Education|<\/td>\n",
              "      <td>Publishing<\/td>\n",
              "      <td>40,000<\/td>\n",
              "      <td>operating<\/td>\n",
              "      <td>EST<\/td>\n",
              "      <td>NaN<\/td>\n",
              "      <td>Tallinn<\/td>\n",
              "      <td>...<\/td>\n",
              "      <td>0.0<\/td>\n",
              "      <td>0.0<\/td>\n",
              "      <td>0.0<\/td>\n",
              "      <td>0.0<\/td>\n",
              "      <td>0.0<\/td>\n",
              "      <td>0.0<\/td>\n",
              "      <td>0.0<\/td>\n",
              "      <td>0.0<\/td>\n",
              "      <td>0.0<\/td>\n",
              "      <td>0.0<\/td>\n",
              "    <\/tr>\n",
              "    <tr>\n",
              "      <th>3<\/th>\n",
              "      <td>\/organization\/in-touch-network<\/td>\n",
              "      <td>(In)Touch Network<\/td>\n",
              "      <td>http:\/\/www.InTouchNetwork.com<\/td>\n",
              "      <td>|Electronics|Guides|Coffee|Restaurants|Music|i...<\/td>\n",
              "      <td>Electronics<\/td>\n",
              "      <td>15,00,000<\/td>\n",
              "      <td>operating<\/td>\n",
              "      <td>GBR<\/td>\n",
              "      <td>NaN<\/td>\n",
              "      <td>London<\/td>\n",
              "      <td>...<\/td>\n",
              "      <td>0.0<\/td>\n",
              "      <td>0.0<\/td>\n",
              "      <td>0.0<\/td>\n",
              "      <td>0.0<\/td>\n",
              "      <td>0.0<\/td>\n",
              "      <td>0.0<\/td>\n",
              "      <td>0.0<\/td>\n",
              "      <td>0.0<\/td>\n",
              "      <td>0.0<\/td>\n",
              "      <td>0.0<\/td>\n",
              "    <\/tr>\n",
              "    <tr>\n",
              "      <th>4<\/th>\n",
              "      <td>\/organization\/r-ranch-and-mine<\/td>\n",
              "      <td>-R- Ranch and Mine<\/td>\n",
              "      <td>NaN<\/td>\n",
              "      <td>|Tourism|Entertainment|Games|<\/td>\n",
              "      <td>Tourism<\/td>\n",
              "      <td>60,000<\/td>\n",
              "      <td>operating<\/td>\n",
              "      <td>USA<\/td>\n",
              "      <td>TX<\/td>\n",
              "      <td>Dallas<\/td>\n",
              "      <td>...<\/td>\n",
              "      <td>0.0<\/td>\n",
              "      <td>0.0<\/td>\n",
              "      <td>0.0<\/td>\n",
              "      <td>0.0<\/td>\n",
              "      <td>0.0<\/td>\n",
              "      <td>0.0<\/td>\n",
              "      <td>0.0<\/td>\n",
              "      <td>0.0<\/td>\n",
              "      <td>0.0<\/td>\n",
              "      <td>0.0<\/td>\n",
              "    <\/tr>\n",
              "    <tr>\n",
              "      <th>...<\/th>\n",
              "      <td>...<\/td>\n",
              "      <td>...<\/td>\n",
              "      <td>...<\/td>\n",
              "      <td>...<\/td>\n",
              "      <td>...<\/td>\n",
              "      <td>...<\/td>\n",
              "      <td>...<\/td>\n",
              "      <td>...<\/td>\n",
              "      <td>...<\/td>\n",
              "      <td>...<\/td>\n",
              "      <td>...<\/td>\n",
              "      <td>...<\/td>\n",
              "      <td>...<\/td>\n",
              "      <td>...<\/td>\n",
              "      <td>...<\/td>\n",
              "      <td>...<\/td>\n",
              "      <td>...<\/td>\n",
              "      <td>...<\/td>\n",
              "      <td>...<\/td>\n",
              "      <td>...<\/td>\n",
              "      <td>...<\/td>\n",
              "    <\/tr>\n",
              "    <tr>\n",
              "      <th>54289<\/th>\n",
              "      <td>NaN<\/td>\n",
              "      <td>NaN<\/td>\n",
              "      <td>NaN<\/td>\n",
              "      <td>NaN<\/td>\n",
              "      <td>NaN<\/td>\n",
              "      <td>NaN<\/td>\n",
              "      <td>NaN<\/td>\n",
              "      <td>NaN<\/td>\n",
              "      <td>NaN<\/td>\n",
              "      <td>NaN<\/td>\n",
              "      <td>...<\/td>\n",
              "      <td>NaN<\/td>\n",
              "      <td>NaN<\/td>\n",
              "      <td>NaN<\/td>\n",
              "      <td>NaN<\/td>\n",
              "      <td>NaN<\/td>\n",
              "      <td>NaN<\/td>\n",
              "      <td>NaN<\/td>\n",
              "      <td>NaN<\/td>\n",
              "      <td>NaN<\/td>\n",
              "      <td>NaN<\/td>\n",
              "    <\/tr>\n",
              "    <tr>\n",
              "      <th>54290<\/th>\n",
              "      <td>NaN<\/td>\n",
              "      <td>NaN<\/td>\n",
              "      <td>NaN<\/td>\n",
              "      <td>NaN<\/td>\n",
              "      <td>NaN<\/td>\n",
              "      <td>NaN<\/td>\n",
              "      <td>NaN<\/td>\n",
              "      <td>NaN<\/td>\n",
              "      <td>NaN<\/td>\n",
              "      <td>NaN<\/td>\n",
              "      <td>...<\/td>\n",
              "      <td>NaN<\/td>\n",
              "      <td>NaN<\/td>\n",
              "      <td>NaN<\/td>\n",
              "      <td>NaN<\/td>\n",
              "      <td>NaN<\/td>\n",
              "      <td>NaN<\/td>\n",
              "      <td>NaN<\/td>\n",
              "      <td>NaN<\/td>\n",
              "      <td>NaN<\/td>\n",
              "      <td>NaN<\/td>\n",
              "    <\/tr>\n",
              "    <tr>\n",
              "      <th>54291<\/th>\n",
              "      <td>NaN<\/td>\n",
              "      <td>NaN<\/td>\n",
              "      <td>NaN<\/td>\n",
              "      <td>NaN<\/td>\n",
              "      <td>NaN<\/td>\n",
              "      <td>NaN<\/td>\n",
              "      <td>NaN<\/td>\n",
              "      <td>NaN<\/td>\n",
              "      <td>NaN<\/td>\n",
              "      <td>NaN<\/td>\n",
              "      <td>...<\/td>\n",
              "      <td>NaN<\/td>\n",
              "      <td>NaN<\/td>\n",
              "      <td>NaN<\/td>\n",
              "      <td>NaN<\/td>\n",
              "      <td>NaN<\/td>\n",
              "      <td>NaN<\/td>\n",
              "      <td>NaN<\/td>\n",
              "      <td>NaN<\/td>\n",
              "      <td>NaN<\/td>\n",
              "      <td>NaN<\/td>\n",
              "    <\/tr>\n",
              "    <tr>\n",
              "      <th>54292<\/th>\n",
              "      <td>NaN<\/td>\n",
              "      <td>NaN<\/td>\n",
              "      <td>NaN<\/td>\n",
              "      <td>NaN<\/td>\n",
              "      <td>NaN<\/td>\n",
              "      <td>NaN<\/td>\n",
              "      <td>NaN<\/td>\n",
              "      <td>NaN<\/td>\n",
              "      <td>NaN<\/td>\n",
              "      <td>NaN<\/td>\n",
              "      <td>...<\/td>\n",
              "      <td>NaN<\/td>\n",
              "      <td>NaN<\/td>\n",
              "      <td>NaN<\/td>\n",
              "      <td>NaN<\/td>\n",
              "      <td>NaN<\/td>\n",
              "      <td>NaN<\/td>\n",
              "      <td>NaN<\/td>\n",
              "      <td>NaN<\/td>\n",
              "      <td>NaN<\/td>\n",
              "      <td>NaN<\/td>\n",
              "    <\/tr>\n",
              "    <tr>\n",
              "      <th>54293<\/th>\n",
              "      <td>NaN<\/td>\n",
              "      <td>NaN<\/td>\n",
              "      <td>NaN<\/td>\n",
              "      <td>NaN<\/td>\n",
              "      <td>NaN<\/td>\n",
              "      <td>NaN<\/td>\n",
              "      <td>NaN<\/td>\n",
              "      <td>NaN<\/td>\n",
              "      <td>NaN<\/td>\n",
              "      <td>NaN<\/td>\n",
              "      <td>...<\/td>\n",
              "      <td>NaN<\/td>\n",
              "      <td>NaN<\/td>\n",
              "      <td>NaN<\/td>\n",
              "      <td>NaN<\/td>\n",
              "      <td>NaN<\/td>\n",
              "      <td>NaN<\/td>\n",
              "      <td>NaN<\/td>\n",
              "      <td>NaN<\/td>\n",
              "      <td>NaN<\/td>\n",
              "      <td>NaN<\/td>\n",
              "    <\/tr>\n",
              "  <\/tbody>\n",
              "<\/table>\n",
              "<p>54294 rows × 39 columns<\/p>\n",
              "<\/div>"
            ]
          },
          "metadata":{
            
          },
          "output_type":"display_data"
        }
      ],
      "metadata":{
        
      }
    },
    {
      "cell_type":"code",
      "source":[
        "# clean data, drop NA values for our target variable\n",
        "df = df.dropna(subset=['status'], axis = 0)\n",
        "\n",
        "# Drop unecessary columns\n",
        "df = df.drop(['permalink', 'homepage_url', 'category_list', 'founded_month', 'founded_quarter','founded_year'], axis = 1)\n",
        "\n",
        "# Limit data to only USA\n",
        "df = df[df[\"country_code\"] == \"USA\"]\n",
        "\n",
        "df = df[df[\"status\"] != \"operating\"]\n",
        "\n",
        "# Rename columns for ease of use\n",
        "df = df.rename({' market ': 'market', ' funding_total_usd ': 'funding_total_usd'}, axis=1)\n",
        "\n",
        "def formatFunding(x):\n",
        "    val = x.strip()\n",
        "    val = val.replace(\",\", \"\")\n",
        "    return val\n",
        "\n",
        "# Format to numbers\n",
        "df[\"funding_total_usd\"] = df[\"funding_total_usd\"].apply(lambda x: formatFunding(x))\n",
        "df = df[df[\"funding_total_usd\"] != \"-\"]\n",
        "df = df.astype({'funding_total_usd': 'int64'})\n",
        "\n",
        "#\n",
        "df = df.drop([\"country_code\", \"region\", \"city\"], axis=1)\n",
        "df = df.dropna(subset=['state_code'], axis = 0)\n",
        "df = df.dropna(subset=['market'], axis = 0)\n",
        "\n",
        "df = df.astype({'market': 'str', 'name': 'str', 'status': 'str', 'state_code': 'str'})\n",
        "\n",
        "df[[\"market\", \"name\", \"status\", \"state_code\"]] = df[[\"market\", \"name\", \"status\", \"state_code\"]].apply(lambda x: x.str.strip())\n",
        "df"
      ],
      "execution_count":0,
      "outputs":[
        
      ],
      "metadata":{
        
      }
    },
    {
      "cell_type":"code",
      "source":[
        "features = df.iloc[:, 1:5]\n",
        "features = features.drop([\"funding_total_usd\", \"status\"], axis=1)\n",
        "\n",
        "from sklearn.preprocessing import OneHotEncoder\n",
        "\n",
        "encoder = OneHotEncoder(sparse = False)\n",
        "\n",
        "encoded_df = encoder.fit_transform(features)\n",
        "\n",
        "feature_names = encoder.get_feature_names([\"market\", \"state_code\"])\n",
        "\n",
        "features_df = pd.DataFrame(encoded_df, columns = feature_names)\n",
        "features_df"
      ],
      "execution_count":0,
      "outputs":[
        
      ],
      "metadata":{
        
      }
    },
    {
      "cell_type":"code",
      "source":[
        
      ],
      "execution_count":0,
      "outputs":[
        
      ],
      "metadata":{
        
      }
    },
    {
      "cell_type":"code",
      "source":[
        "df_new = df.drop([\"market\", \"state_code\"], axis = 1)\n",
        "frames = [df, df_new]\n",
        "df_new = pd.concat(frames, axis = 1)\n",
        "df_new"
      ],
      "execution_count":0,
      "outputs":[
        
      ],
      "metadata":{
        
      }
    },
    {
      "cell_type":"markdown",
      "source":[
        "### 3.2. Data Exploration\n",
        "* Generate appropriate data visualizations for your key variables identified in the previous section\n",
        "* You should have at least three visualizations (and at least two different visualization types)\n",
        "* For each visualization provide an explanation regarding the variables involved and an interpretation of the graph. In other words, what does the graph represent?\n",
        "* Insert your visualizations as images as well (upload the graph images to an online source, e.g. github or imgbb, and embed those into the cells in Jupyter Notebook, similar to HWs). This is a requirement."
      ],
      "attachments":{
        
      },
      "metadata":{
        
      }
    },
    {
      "cell_type":"markdown",
      "source":[
        "### 3.3. Model Training\n",
        "* For your machine learning question(s), use the Training, Validation, and Testing approach through GridSearch\n",
        "* Apply machine learning algorithms (apply at least three different algorithms)\n",
        "* Train your algorithms using your **training set**\n",
        "\n",
        "* Evaluate the performance of your algorithms using appropriate evaluation metrics\n",
        "    * Use at least two different metrics\n",
        "    * Remember GridSearch will use cross-validation\n",
        "\n",
        "* Is there any indication of overfitting\/underfitting?\n",
        "\n",
        "* Use one feature selection technique to select a subset of your original features and train your models with the selected features as well (the idea is to see if you can achieve the same using a fewer number of features)\n",
        "\n",
        "    * **Hint:** You can run your model with all your features and with your selected features, comparing the results (similar to the corresponding HW assignment)."
      ],
      "attachments":{
        
      },
      "metadata":{
        
      }
    },
    {
      "cell_type":"markdown",
      "source":[
        "### 3.4. Model Optimization\n",
        "* Tune your models using hyperparameters appropriate for your algorithms\n",
        "* Explain why you are doing this (e.g., to avoid overfitting, etc.)"
      ],
      "attachments":{
        
      },
      "metadata":{
        
      }
    },
    {
      "cell_type":"markdown",
      "source":[
        "### 3.5. Model Testing\n",
        "* Test your tuned algorithms using your **testing set**"
      ],
      "attachments":{
        
      },
      "metadata":{
        
      }
    },
    {
      "cell_type":"markdown",
      "source":[
        "<a id=\"4\"><\/a>\n",
        "<hr style=\"height:2px; border:none; color:black; background-color:black;\">"
      ],
      "attachments":{
        
      },
      "metadata":{
        
      }
    },
    {
      "cell_type":"markdown",
      "source":[
        "## 4. DISCUSSION\n",
        "* Interpret your findings from 3.3, 3.4, and 3.5\n",
        "    * Which algorithms did you compare?\n",
        "    * Which algorithm(s) revealed best performance? With what parameters?\n",
        "    * Which algorithm(s) should be used for your predictive model?\n",
        "    * Based on your findings, can we use the features in your dataset to predict the outcome variable you identified using the algorithms you've applied? (It is okay if the answer is no. We're interested in the process, not the performance of the model.)\n",
        "\n",
        "* Discuss the ethical implications of your project. Should your results be accepted at face value, why or why not? (e.g. any dataset bias or methodological issues?)\n",
        "\n",
        "* End this section with a conclusion paragraph containing some pointers for future work\n",
        "    * (e.g., get more data\/features, perform another analysis, etc.)"
      ],
      "attachments":{
        
      },
      "metadata":{
        
      }
    },
    {
      "cell_type":"markdown",
      "source":[
        "<a id=\"5\"><\/a>\n",
        "<hr style=\"height:2px; border:none; color:black; background-color:black;\">"
      ],
      "attachments":{
        
      },
      "metadata":{
        
      }
    },
    {
      "cell_type":"markdown",
      "source":[
        "### CONTRIBUTIONS\n",
        "* Describe each team member's contributions to the report (who did what in each section)\n",
        "* Remember this is a team effort!\n",
        "* Each member of your team will later provide peer evaluation of other team members. Your final grade on the project will be based on those peer evaluations. A survey will be shared after the deadline for this deliverable."
      ],
      "attachments":{
        
      },
      "metadata":{
        
      }
    },
    {
      "cell_type":"code",
      "source":[
        
      ],
      "execution_count":0,
      "outputs":[
        
      ],
      "metadata":{
        
      }
    }
  ],
  "metadata":{
    
  },
  "nbformat":4,
  "nbformat_minor":0
}
