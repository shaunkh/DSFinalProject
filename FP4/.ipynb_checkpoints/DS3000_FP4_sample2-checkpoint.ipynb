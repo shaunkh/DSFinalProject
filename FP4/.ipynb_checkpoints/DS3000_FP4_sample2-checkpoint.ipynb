{
 "cells": [
  {
   "cell_type": "markdown",
   "metadata": {},
   "source": [
    "## 1. INTRODUCTION"
   ]
  },
  {
   "cell_type": "markdown",
   "metadata": {},
   "source": [
    "### &emsp; 1.1. Problem Statement\n",
    "\n",
    "\n",
    "The topic of this project is to analyze the stock returns of the renewable energy industry and several variables that potentially impact the returns. \n",
    "\n",
    "The renewable energy industry is still relatively new and as a result there is not much research on economic factors that drive stock performance. Lack of information makes investors wary and can inhibit purchase of renewable energy stocks as they are riskier and harder to predict.\n",
    "\n",
    "In this project we  identified potential variables, oil price, overall stock market exchange performance, and renewable energy consumption, analyzed if they had a significant relationship with the performance of the renewable energy index stock performance."
   ]
  },
  {
   "cell_type": "markdown",
   "metadata": {},
   "source": [
    "### &emsp; 1.2. Significance of Problem\n",
    "\n",
    "This project is important because it will provide information on potential factors affecting renewable energy stock performance. Increased information leads to increased investor confidence, thus increased investments in the renewable energy industry. Thus, the research from this project intends to promote the renewable energy industry via increased funding.\n",
    "\n",
    "Previous research on this topic has found that there is a negative correlation between fossil fuel prices and renewable energy stocks, in addition to the positive affect on renewable energy stocks as a result of qualititative factors like legilstaion(Roen 2019)\n",
    "\n",
    "Sources:\n",
    "Roen, H. (2019, September 9). What Drives Alternative Energy Stocks? Retrieved from https://www.renewableenergyworld.com/2015/05/19/what-drives-alternative-energy-stocks/#gref."
   ]
  },
  {
   "cell_type": "markdown",
   "metadata": {},
   "source": [
    "### &emsp; 1.2. Questions and Hypotheses\n",
    "\n",
    "1. Is the rate of return for the renewable energy index significant to the rate of change of oil prices?\n",
    "    - H0 = the renewable energy index and the price of oil grow at different rates\n",
    "    - H1 = the renewable energy index and the price of oil grow at the same rate\n",
    "    \n",
    "\n",
    "2. Is the rate of return for the renewable energy index faster than that of the market overall?\n",
    "    - H0 = the renewable energy index and market index grow at different rates\n",
    "    - H1 = the renewable energy index and the  market index grow at the same rate\n",
    "\n",
    "\n",
    "3. Has the rate of return for the renewable energy index grown at the same rate as renewable energy consumption?\n",
    "    - H0 = the renewable energy index and renewable energy consumption grow at the same rate\n",
    "    - H1 = the renewable energy index and renewable energy consumption grow at different rates\n",
    "\n",
    "4. Can we train a machine learning model to predict the renewable energy index returns? Specifically which machine learning algorithm would work best: LinearRegression, Ridge, KNeighborsRegressor, or Support Vector Regression?"
   ]
  },
  {
   "cell_type": "markdown",
   "metadata": {},
   "source": [
    "## 2. METHOD"
   ]
  },
  {
   "cell_type": "markdown",
   "metadata": {},
   "source": [
    "### &emsp; 2.1. Data Acquisition\n",
    "The dataset consists of historical stock data scraped from Yahoo Finance(https://finance.yahoo.com/) and oil price and energy consumption data called from the U.S. Energy Information Administration API(https://www.eia.gov/). Both sites are reputable sources and thus we have confidence in the accuracy of the data.\n",
    "\n",
    "The renewable energy index \"QCLN\" is used to measure renewable energy stock performance and the NASDAQ index \"NDAQ\" is used to measure overall stock performance. \n",
    "\n",
    "The data is all quantitative and continuous and recorded monthly. The dataset spans from the years 2009 to 2019. Descriptions of each variable are as follows:\n",
    "\n",
    "  * Date - Integers represented as yyyymm.\n",
    "\n",
    "  * Open - Float that represents the price of the QCLN index at the beginning of the month.\n",
    "\n",
    "  * High - Float that represents the highest price the QCLN index was trading during the whole month.\n",
    "\n",
    "  * Low - Float that represents the lowest price the QCLN index was trading during the whole month.\n",
    "\n",
    "  * Close - Float that represents the the price of the QCLN index at the end of the month.\n",
    "\n",
    "  * Adj Close** - Float that presents the stock price of QCLN index after adjusting for dividends and splits of the QCLN during the month.\n",
    "  \n",
    "  * Volume - Integer that represents the total volume of QCLN index traded during the month.\n",
    "\n",
    "  * average oil price - Float that represents the average price of oil in the month.\n",
    "\n",
    "  * NDAQ price - Float that represents the adjusted close price for the NASDAQ index. \n",
    "\n",
    "  * RE Consumption - Float that represents the total renewable energy consumption during the month in trillion BTU's(British thermal units)\n",
    "\n",
    "  * TE consumption - Float that represents the total energy consumption during the month in trillion BTU's.\n",
    "  \n",
    "The Adj Close** for QCLN, NDAQ, RE consumption, and average oil price are notable as they will be used during the data wrangling section to engineer the rate of return/growth for each variable.\n"
   ]
  },
  {
   "cell_type": "markdown",
   "metadata": {},
   "source": [
    "### &emsp; 2.2. Variables\n",
    "\n",
    "* *Hypotheses:* In all the hypothesis, the dependant variable is the rate of growth/return. The independant variables for each hypothesis are as follows:\n",
    "   - H1: QLCN price and oil price\n",
    "   - H2: QLCN price and NASDAQ price\n",
    "   - H3: QLC price and renewable energy consumption\n",
    "\n",
    "\n",
    "* *Predictive Models:* The feature variables in the predictive models will be all of the variables described above (including the engineered variables) except for the date variable; and engineered variable, \"QCLN return,\" which is the monthly return for QCLN and will be the target variable of the model."
   ]
  },
  {
   "cell_type": "markdown",
   "metadata": {},
   "source": [
    "### &emsp; 2.3. Data Analysis\n",
    "\n",
    "The predictive model we are creating will be a multiple regression model as our features and target values are continuous and will use supervised learning. The model aims to predict the percent return on the QLCN index per month based on the features described above. Additionally, the engineered features, \"QLCN return\", \"NDAQ return\", \"RE growth\", and \"TE growth\" will be used. During the data wrangling process, we well use the RFE feature selection technqiue to choose the five best of these features.\n",
    "\n",
    "\n",
    "A decription of the machine algorithms we will use and the rationale behind their use are as follows:\n",
    "\n",
    "* LinearRegressor: This algorithm operates by trying to find the line hat best fits data points on the plot. This method does not require a lot of tuning and is often used in time-series situations like forecasting stocks.\n",
    "\n",
    "* Ridge: This algorithm operates by adding a degree of bias to regression estimates in order to combat multicollinearity - when indpendant variables have a linear relationshp. This is useful for our purpose because there is a possibility that things like oil price and renewable energyc consumption are correlated.\n",
    "\n",
    "\n",
    "* KNeighborsRegressor: KNeighbors is often used in classification machine learning models. However, for this model it oeprates as a regressor by finding the average of the closest k data points\n",
    "\n",
    "\n",
    "* Support Vector Regression: Another algorithm that has versions that can be applied to both classification and regression. This model works by focusing on fitting error within a certain threshold as opposed to minimizing error. It was chosen as a model for this project because\n"
   ]
  },
  {
   "cell_type": "markdown",
   "metadata": {},
   "source": [
    "## 3. RESULTS"
   ]
  },
  {
   "cell_type": "code",
   "execution_count": 1,
   "metadata": {},
   "outputs": [],
   "source": [
    "import csv\n",
    "import pandas as pd\n",
    "from scipy import stats\n",
    "import matplotlib.pyplot as plt\n",
    "from scipy.stats import uniform\n",
    "from sklearn.preprocessing import MinMaxScaler, normalize\n",
    "from sklearn.metrics import r2_score, mean_squared_error\n",
    "from sklearn.linear_model import LinearRegression, Ridge\n",
    "from sklearn.neighbors import KNeighborsRegressor\n",
    "from sklearn.svm import SVR\n",
    "from sklearn.feature_selection import RFE\n",
    "from sklearn import preprocessing\n",
    "from sklearn.tree import DecisionTreeRegressor\n",
    "from sklearn.model_selection import GridSearchCV, train_test_split\n",
    "import numpy as np\n",
    "\n",
    "\n",
    "#from statsmodels.stats.multicomp import pairwise_tukeyhsd\n",
    "#from statsmodels.stats.multicomp import MultiComparison"
   ]
  },
  {
   "cell_type": "markdown",
   "metadata": {},
   "source": [
    "### &emsp; 3.1. Data Wrangling"
   ]
  },
  {
   "cell_type": "markdown",
   "metadata": {},
   "source": [
    "   #### _General Data Work_"
   ]
  },
  {
   "cell_type": "code",
   "execution_count": 820,
   "metadata": {},
   "outputs": [],
   "source": [
    "#load scraped data\n",
    "#CLEANING: dropnull values, remove unnecessary header\n",
    "def load_clean_data():\n",
    "    '''function:loads df, drops any null values and an unnecessary column'''\n",
    "    \n",
    "    df = pd.read_csv(URL, index_col= 0)\n",
    "\n",
    "    df.dropna(inplace=True)\n",
    "\n",
    "    return df\n"
   ]
  },
  {
   "cell_type": "code",
   "execution_count": 821,
   "metadata": {},
   "outputs": [],
   "source": [
    "enrgy_df = load_clean_data()\n",
    "                           "
   ]
  },
  {
   "cell_type": "code",
   "execution_count": 822,
   "metadata": {},
   "outputs": [
    {
     "data": {
      "text/html": [
       "<div>\n",
       "<style scoped>\n",
       "    .dataframe tbody tr th:only-of-type {\n",
       "        vertical-align: middle;\n",
       "    }\n",
       "\n",
       "    .dataframe tbody tr th {\n",
       "        vertical-align: top;\n",
       "    }\n",
       "\n",
       "    .dataframe thead th {\n",
       "        text-align: right;\n",
       "    }\n",
       "</style>\n",
       "<table border=\"1\" class=\"dataframe\">\n",
       "  <thead>\n",
       "    <tr style=\"text-align: right;\">\n",
       "      <th></th>\n",
       "      <th>Date</th>\n",
       "      <th>Open</th>\n",
       "      <th>High</th>\n",
       "      <th>Low</th>\n",
       "      <th>Close</th>\n",
       "      <th>Adj Close_x</th>\n",
       "      <th>Volume</th>\n",
       "      <th>Adj Close_y</th>\n",
       "      <th>average oil price</th>\n",
       "      <th>RE consumption</th>\n",
       "      <th>TE consumption</th>\n",
       "    </tr>\n",
       "  </thead>\n",
       "  <tbody>\n",
       "    <tr>\n",
       "      <th>0</th>\n",
       "      <td>200905</td>\n",
       "      <td>12.86</td>\n",
       "      <td>14.16</td>\n",
       "      <td>11.92</td>\n",
       "      <td>13.94</td>\n",
       "      <td>13.030581</td>\n",
       "      <td>433400</td>\n",
       "      <td>18.428375</td>\n",
       "      <td>52.67</td>\n",
       "      <td>693.147</td>\n",
       "      <td>7280.212</td>\n",
       "    </tr>\n",
       "    <tr>\n",
       "      <th>1</th>\n",
       "      <td>200906</td>\n",
       "      <td>14.47</td>\n",
       "      <td>15.36</td>\n",
       "      <td>13.00</td>\n",
       "      <td>13.84</td>\n",
       "      <td>12.937106</td>\n",
       "      <td>588700</td>\n",
       "      <td>18.602966</td>\n",
       "      <td>63.09</td>\n",
       "      <td>685.792</td>\n",
       "      <td>7530.563</td>\n",
       "    </tr>\n",
       "    <tr>\n",
       "      <th>2</th>\n",
       "      <td>200907</td>\n",
       "      <td>14.02</td>\n",
       "      <td>15.17</td>\n",
       "      <td>12.23</td>\n",
       "      <td>14.75</td>\n",
       "      <td>13.787737</td>\n",
       "      <td>426400</td>\n",
       "      <td>18.445827</td>\n",
       "      <td>60.44</td>\n",
       "      <td>645.637</td>\n",
       "      <td>7807.590</td>\n",
       "    </tr>\n",
       "    <tr>\n",
       "      <th>3</th>\n",
       "      <td>200908</td>\n",
       "      <td>15.07</td>\n",
       "      <td>15.27</td>\n",
       "      <td>13.82</td>\n",
       "      <td>14.28</td>\n",
       "      <td>13.348401</td>\n",
       "      <td>491100</td>\n",
       "      <td>19.161669</td>\n",
       "      <td>65.28</td>\n",
       "      <td>618.027</td>\n",
       "      <td>7955.155</td>\n",
       "    </tr>\n",
       "    <tr>\n",
       "      <th>4</th>\n",
       "      <td>200909</td>\n",
       "      <td>14.25</td>\n",
       "      <td>16.10</td>\n",
       "      <td>13.73</td>\n",
       "      <td>15.41</td>\n",
       "      <td>14.404683</td>\n",
       "      <td>343200</td>\n",
       "      <td>18.375990</td>\n",
       "      <td>65.28</td>\n",
       "      <td>570.906</td>\n",
       "      <td>7263.665</td>\n",
       "    </tr>\n",
       "  </tbody>\n",
       "</table>\n",
       "</div>"
      ],
      "text/plain": [
       "     Date   Open   High    Low  Close  Adj Close_x  Volume  Adj Close_y  \\\n",
       "0  200905  12.86  14.16  11.92  13.94    13.030581  433400    18.428375   \n",
       "1  200906  14.47  15.36  13.00  13.84    12.937106  588700    18.602966   \n",
       "2  200907  14.02  15.17  12.23  14.75    13.787737  426400    18.445827   \n",
       "3  200908  15.07  15.27  13.82  14.28    13.348401  491100    19.161669   \n",
       "4  200909  14.25  16.10  13.73  15.41    14.404683  343200    18.375990   \n",
       "\n",
       "   average oil price  RE consumption  TE consumption  \n",
       "0              52.67         693.147        7280.212  \n",
       "1              63.09         685.792        7530.563  \n",
       "2              60.44         645.637        7807.590  \n",
       "3              65.28         618.027        7955.155  \n",
       "4              65.28         570.906        7263.665  "
      ]
     },
     "execution_count": 822,
     "metadata": {},
     "output_type": "execute_result"
    }
   ],
   "source": [
    "enrgy_df.head()"
   ]
  },
  {
   "cell_type": "code",
   "execution_count": 823,
   "metadata": {},
   "outputs": [],
   "source": [
    "#CLEANING: clean up strings so they can used as numbers\n",
    "\n",
    "def strip_str(df, col):\n",
    "    '''function: strips strings so that it is easier to convert to float if needed'''\n",
    "    data_lst = []\n",
    "    for row in df[col]:\n",
    "        fmt_cell = str(row).replace(\",\",\"\")\n",
    "        data_lst.append(fmt_cell)\n",
    "    \n",
    "    return data_lst\n",
    "\n"
   ]
  },
  {
   "cell_type": "code",
   "execution_count": 824,
   "metadata": {},
   "outputs": [],
   "source": [
    "for col in list(enrgy_df.columns): #remove commas from all columns in dataframe so it can be used easier\n",
    "    enrgy_df[col] = strip_str(enrgy_df,col)\n",
    "\n",
    "for column in enrgy_df:\n",
    "    enrgy_df[column] = pd.to_numeric(enrgy_df[column])\n",
    "    \n",
    "enrgy_df['Date'] =  pd.to_datetime(enrgy_df['Date'], format='%Y%m')\n"
   ]
  },
  {
   "cell_type": "code",
   "execution_count": null,
   "metadata": {},
   "outputs": [],
   "source": []
  },
  {
   "cell_type": "code",
   "execution_count": 825,
   "metadata": {},
   "outputs": [],
   "source": [
    "#FEATURE EXTRACTION: make new columns for the returns for the energy stock and market; \n",
    "    #find growth of energy consumption\n",
    "\n",
    "def calc_returns(df, col):\n",
    "    '''function: calculates the return/growth of a variable'''\n",
    "    \n",
    "    return_lst = [0]\n",
    "    for i in range(0, df.shape[0]-1):\n",
    "        \n",
    "        x = float(df[col][i])\n",
    "        y = float(df[col][i+1])\n",
    "        z = (y - x) / x\n",
    "\n",
    "        return_lst.append(z)\n",
    "    \n",
    "    return return_lst\n"
   ]
  },
  {
   "cell_type": "code",
   "execution_count": 826,
   "metadata": {},
   "outputs": [],
   "source": [
    "#create columns for return/growth on the stock indices and energy consumption \n",
    "\n",
    "enrgy_df[\"QCLN return\"] = calc_returns(enrgy_df,\"Adj Close_x\")\n",
    "enrgy_df[\"NDAQ return\"] = calc_returns(enrgy_df,\"Adj Close_y\")\n",
    "enrgy_df[\"RE growth\"] = calc_returns(enrgy_df,\"RE consumption\")\n",
    "enrgy_df[\"TE growth\"] = calc_returns(enrgy_df,\"TE consumption\")\n",
    "enrgy_df[\"oil growth\"] = calc_returns(enrgy_df,\"average oil price\")\n",
    "\n",
    "\n",
    "#drop first and last row since they have been set to 0. drop nulls just in case\n",
    "enrgy_df.drop([enrgy_df.index[0]], inplace = True)\n",
    "enrgy_df.dropna(inplace=True)"
   ]
  },
  {
   "cell_type": "code",
   "execution_count": 827,
   "metadata": {},
   "outputs": [
    {
     "data": {
      "text/html": [
       "<div>\n",
       "<style scoped>\n",
       "    .dataframe tbody tr th:only-of-type {\n",
       "        vertical-align: middle;\n",
       "    }\n",
       "\n",
       "    .dataframe tbody tr th {\n",
       "        vertical-align: top;\n",
       "    }\n",
       "\n",
       "    .dataframe thead th {\n",
       "        text-align: right;\n",
       "    }\n",
       "</style>\n",
       "<table border=\"1\" class=\"dataframe\">\n",
       "  <thead>\n",
       "    <tr style=\"text-align: right;\">\n",
       "      <th></th>\n",
       "      <th>Date</th>\n",
       "      <th>Open</th>\n",
       "      <th>High</th>\n",
       "      <th>Low</th>\n",
       "      <th>Close</th>\n",
       "      <th>Adj Close_x</th>\n",
       "      <th>Volume</th>\n",
       "      <th>Adj Close_y</th>\n",
       "      <th>average oil price</th>\n",
       "      <th>RE consumption</th>\n",
       "      <th>TE consumption</th>\n",
       "      <th>QCLN return</th>\n",
       "      <th>NDAQ return</th>\n",
       "      <th>RE growth</th>\n",
       "      <th>TE growth</th>\n",
       "      <th>oil growth</th>\n",
       "    </tr>\n",
       "  </thead>\n",
       "  <tbody>\n",
       "    <tr>\n",
       "      <th>1</th>\n",
       "      <td>2009-06-01</td>\n",
       "      <td>14.47</td>\n",
       "      <td>15.36</td>\n",
       "      <td>13.00</td>\n",
       "      <td>13.84</td>\n",
       "      <td>12.937106</td>\n",
       "      <td>588700</td>\n",
       "      <td>18.602966</td>\n",
       "      <td>63.09</td>\n",
       "      <td>685.792</td>\n",
       "      <td>7530.563</td>\n",
       "      <td>-0.007174</td>\n",
       "      <td>0.009474</td>\n",
       "      <td>-0.010611</td>\n",
       "      <td>0.034388</td>\n",
       "      <td>0.197836</td>\n",
       "    </tr>\n",
       "    <tr>\n",
       "      <th>2</th>\n",
       "      <td>2009-07-01</td>\n",
       "      <td>14.02</td>\n",
       "      <td>15.17</td>\n",
       "      <td>12.23</td>\n",
       "      <td>14.75</td>\n",
       "      <td>13.787737</td>\n",
       "      <td>426400</td>\n",
       "      <td>18.445827</td>\n",
       "      <td>60.44</td>\n",
       "      <td>645.637</td>\n",
       "      <td>7807.590</td>\n",
       "      <td>0.065751</td>\n",
       "      <td>-0.008447</td>\n",
       "      <td>-0.058553</td>\n",
       "      <td>0.036787</td>\n",
       "      <td>-0.042003</td>\n",
       "    </tr>\n",
       "    <tr>\n",
       "      <th>3</th>\n",
       "      <td>2009-08-01</td>\n",
       "      <td>15.07</td>\n",
       "      <td>15.27</td>\n",
       "      <td>13.82</td>\n",
       "      <td>14.28</td>\n",
       "      <td>13.348401</td>\n",
       "      <td>491100</td>\n",
       "      <td>19.161669</td>\n",
       "      <td>65.28</td>\n",
       "      <td>618.027</td>\n",
       "      <td>7955.155</td>\n",
       "      <td>-0.031864</td>\n",
       "      <td>0.038808</td>\n",
       "      <td>-0.042764</td>\n",
       "      <td>0.018900</td>\n",
       "      <td>0.080079</td>\n",
       "    </tr>\n",
       "    <tr>\n",
       "      <th>4</th>\n",
       "      <td>2009-09-01</td>\n",
       "      <td>14.25</td>\n",
       "      <td>16.10</td>\n",
       "      <td>13.73</td>\n",
       "      <td>15.41</td>\n",
       "      <td>14.404683</td>\n",
       "      <td>343200</td>\n",
       "      <td>18.375990</td>\n",
       "      <td>65.28</td>\n",
       "      <td>570.906</td>\n",
       "      <td>7263.665</td>\n",
       "      <td>0.079132</td>\n",
       "      <td>-0.041003</td>\n",
       "      <td>-0.076244</td>\n",
       "      <td>-0.086924</td>\n",
       "      <td>0.000000</td>\n",
       "    </tr>\n",
       "    <tr>\n",
       "      <th>5</th>\n",
       "      <td>2009-10-01</td>\n",
       "      <td>15.33</td>\n",
       "      <td>15.75</td>\n",
       "      <td>13.55</td>\n",
       "      <td>13.57</td>\n",
       "      <td>12.684721</td>\n",
       "      <td>491500</td>\n",
       "      <td>15.765815</td>\n",
       "      <td>69.82</td>\n",
       "      <td>628.228</td>\n",
       "      <td>7463.330</td>\n",
       "      <td>-0.119403</td>\n",
       "      <td>-0.142043</td>\n",
       "      <td>0.100405</td>\n",
       "      <td>0.027488</td>\n",
       "      <td>0.069547</td>\n",
       "    </tr>\n",
       "  </tbody>\n",
       "</table>\n",
       "</div>"
      ],
      "text/plain": [
       "        Date   Open   High    Low  Close  Adj Close_x  Volume  Adj Close_y  \\\n",
       "1 2009-06-01  14.47  15.36  13.00  13.84    12.937106  588700    18.602966   \n",
       "2 2009-07-01  14.02  15.17  12.23  14.75    13.787737  426400    18.445827   \n",
       "3 2009-08-01  15.07  15.27  13.82  14.28    13.348401  491100    19.161669   \n",
       "4 2009-09-01  14.25  16.10  13.73  15.41    14.404683  343200    18.375990   \n",
       "5 2009-10-01  15.33  15.75  13.55  13.57    12.684721  491500    15.765815   \n",
       "\n",
       "   average oil price  RE consumption  TE consumption  QCLN return  \\\n",
       "1              63.09         685.792        7530.563    -0.007174   \n",
       "2              60.44         645.637        7807.590     0.065751   \n",
       "3              65.28         618.027        7955.155    -0.031864   \n",
       "4              65.28         570.906        7263.665     0.079132   \n",
       "5              69.82         628.228        7463.330    -0.119403   \n",
       "\n",
       "   NDAQ return  RE growth  TE growth  oil growth  \n",
       "1     0.009474  -0.010611   0.034388    0.197836  \n",
       "2    -0.008447  -0.058553   0.036787   -0.042003  \n",
       "3     0.038808  -0.042764   0.018900    0.080079  \n",
       "4    -0.041003  -0.076244  -0.086924    0.000000  \n",
       "5    -0.142043   0.100405   0.027488    0.069547  "
      ]
     },
     "execution_count": 827,
     "metadata": {},
     "output_type": "execute_result"
    }
   ],
   "source": [
    "enrgy_df.head()"
   ]
  },
  {
   "cell_type": "markdown",
   "metadata": {},
   "source": [
    "#### _One-way ANOVA Data Work_"
   ]
  },
  {
   "cell_type": "code",
   "execution_count": 828,
   "metadata": {},
   "outputs": [],
   "source": [
    "#Normalize data, important that we normalize and not scale\n",
    "df_drop = enrgy_df.drop([\"Date\"], axis = 1)\n",
    "df_col = df_drop.columns\n",
    "df_array = df_drop.values\n",
    "df_norm = normalize(df_array)\n",
    "normalized_df = pd.DataFrame(df_norm, columns = df_col)\n"
   ]
  },
  {
   "cell_type": "markdown",
   "metadata": {},
   "source": [
    "#### _Machine Learning Data Work_"
   ]
  },
  {
   "cell_type": "code",
   "execution_count": 829,
   "metadata": {},
   "outputs": [],
   "source": [
    "#set feature and target variables\n",
    "def features_and_target(df, target_var):\n",
    "    '''function:sets features and target variable'''\n",
    "    \n",
    "    features = df.drop([target_var, \"Date\"], axis = 1) #drop date\n",
    "    target = df[target_var]\n",
    "   \n",
    "    return features, target\n",
    "  "
   ]
  },
  {
   "cell_type": "code",
   "execution_count": 830,
   "metadata": {},
   "outputs": [],
   "source": [
    "features, target = features_and_target(enrgy_df, \"QCLN return\")\n"
   ]
  },
  {
   "cell_type": "code",
   "execution_count": 831,
   "metadata": {},
   "outputs": [],
   "source": [
    "#PREPROCESSING: use min-max scaler to scale the data\n",
    "def scale_the_dataset():        \n",
    "    '''function: scale the dataset for use in ML algorithms '''\n",
    "    \n",
    "    #create the scaler\n",
    "    scaler = MinMaxScaler()\n",
    "\n",
    "    #fit scaler to training data\n",
    "    scaler.fit(features) \n",
    "    scaled_features = scaler.transform(features)\n",
    "        \n",
    "    return scaled_features"
   ]
  },
  {
   "cell_type": "code",
   "execution_count": 832,
   "metadata": {},
   "outputs": [],
   "source": [
    "scaled_features = scale_the_dataset()"
   ]
  },
  {
   "cell_type": "markdown",
   "metadata": {},
   "source": [
    "######  *feature selection will be performed in 3.3 Model Construction"
   ]
  },
  {
   "cell_type": "markdown",
   "metadata": {},
   "source": [
    "### &emsp; 3.2. Data Exploration"
   ]
  },
  {
   "cell_type": "code",
   "execution_count": 833,
   "metadata": {},
   "outputs": [
    {
     "data": {
      "text/plain": [
       "<matplotlib.axes._subplots.AxesSubplot at 0x1a21de5860>"
      ]
     },
     "execution_count": 833,
     "metadata": {},
     "output_type": "execute_result"
    },
    {
     "data": {
      "image/png": "[encoded data removed]",
      "text/plain": [
       "<Figure size 1152x576 with 1 Axes>"
      ]
     },
     "metadata": {
      "needs_background": "light"
     },
     "output_type": "display_data"
    }
   ],
   "source": [
    "enrgy_df.plot(x = \"Date\", y = [\"Adj Close_x\",\"Adj Close_y\"],label = [\"QCLN\", \"NDAQ\"], figsize = (16,8), title = \"Adjusted Close Price\")\n"
   ]
  },
  {
   "cell_type": "markdown",
   "metadata": {},
   "source": [
    "##### Interpretation:\n",
    "\n",
    "This graph shows us how the price of the NASDAQ and QCLN indices have grown over the past ten years. It consists of stock price on the Y axis and time on the X axis. The variables are the adjusted closing price of NDAQ and QCLN ticker. \n",
    "\n",
    "\n",
    "This graph shows us that the NDAQ has grown at a much faster rate than QCLN starting around 2015, but it also appears to be more volatile."
   ]
  },
  {
   "cell_type": "code",
   "execution_count": null,
   "metadata": {},
   "outputs": [],
   "source": []
  },
  {
   "cell_type": "code",
   "execution_count": 834,
   "metadata": {},
   "outputs": [
    {
     "data": {
      "image/png": "[encoded data removed]",
      "text/plain": [
       "<Figure size 1152x576 with 2 Axes>"
      ]
     },
     "metadata": {
      "needs_background": "light"
     },
     "output_type": "display_data"
    }
   ],
   "source": [
    "plt.figure(figsize = (16,8))\n",
    "\n",
    "plt.subplot(1, 2, 1)\n",
    "plt.scatter(x=enrgy_df['RE growth'], y=enrgy_df['QCLN return'])\n",
    "plt.title(\"Renewable Energy Consumption Growth vs. QCLN Return\")\n",
    "plt.xlabel =(\"RE growth\")\n",
    "plt.ylabel = (\"QCLN return\")\n",
    "\n",
    "plt.subplot(1, 2, 2)\n",
    "plt.scatter(x=enrgy_df['RE consumption'], y=enrgy_df['Adj Close_x'])\n",
    "plt.title(\"Renewable Energy Consumption vs. QCLN Price\")\n",
    "plt.xlabel = (\"RE growth\")\n",
    "plt.ylabel = (\"QCLN return\")\n",
    "\n",
    "plt.show()"
   ]
  },
  {
   "cell_type": "markdown",
   "metadata": {},
   "source": [
    "##### Interpretation:\n",
    "\n",
    "These two graphs show the relationship between (1) renewable energy consumption growth rate (x axis) and QCLN returns (y axis) and (2) renewable energy consumption(x axis) and QCLN price (y axis) respectively.\n",
    "\n",
    "\n",
    "It is interesting that there is relatively no correlation in graph 1, thus the growth of renewable energy consumption is not very related to the returns of QCLN, but for actual renewable energy consumption and QCLN price there is a slight positive correlation. This may be because there is a general upward trend in both consumption trends and stock prices overtime since the economy has been doing well."
   ]
  },
  {
   "cell_type": "markdown",
   "metadata": {},
   "source": []
  },
  {
   "cell_type": "code",
   "execution_count": 835,
   "metadata": {},
   "outputs": [
    {
     "data": {
      "image/png": "[encoded data removed]",
      "text/plain": [
       "<Figure size 1152x576 with 2 Axes>"
      ]
     },
     "metadata": {
      "needs_background": "light"
     },
     "output_type": "display_data"
    }
   ],
   "source": [
    "plt.figure(figsize = (16,8))\n",
    "\n",
    "plt.subplot(1, 2, 1)\n",
    "plt.scatter(x=enrgy_df['oil growth'], y=enrgy_df['QCLN return'])\n",
    "plt.title(\"Oil Price Growth vs. QCLN Return\")\n",
    "plt.xlabel = \"RE growth\"\n",
    "plt.ylabel = \"QCLN return\"\n",
    "\n",
    "plt.subplot(1, 2, 2)\n",
    "plt.scatter(x=enrgy_df['average oil price'], y=enrgy_df['Adj Close_x'])\n",
    "plt.title(\"Oil Price vs. QCLN Price\")\n",
    "plt.xlabel = \"RE growth\"\n",
    "plt.ylabel = \"QCLN return\"\n",
    "\n",
    "plt.show()"
   ]
  },
  {
   "cell_type": "markdown",
   "metadata": {},
   "source": [
    "##### Interpretation:\n",
    "\n",
    "Similar to the graphs above, these graphs show (1) the relation between oil price growth (x axis) and QCLN returns (y axis) and (2) oil prices (x axis) vs QCLN prices (y axis).\n",
    "\n",
    "Again, there is little correlation in the first graph, but somewhat of a correlation in the second. This time, however, it is a negative correlation. This is intuitive, as with increased oil prices, consumers may be likley to look for energy alternatives. The clusters in this graph are also interesting."
   ]
  },
  {
   "cell_type": "code",
   "execution_count": null,
   "metadata": {},
   "outputs": [],
   "source": []
  },
  {
   "cell_type": "code",
   "execution_count": 836,
   "metadata": {},
   "outputs": [
    {
     "data": {
      "image/png": "[encoded data removed]",
      "text/plain": [
       "<Figure size 1152x576 with 1 Axes>"
      ]
     },
     "metadata": {
      "needs_background": "light"
     },
     "output_type": "display_data"
    }
   ],
   "source": [
    "#Create a bar plot showing the ratio of renewable energy to total energy consumption\n",
    "\n",
    "plot_df = enrgy_df.groupby(enrgy_df.Date.dt.year).sum()\n",
    "RE = pd.to_numeric(plot_df[\"RE consumption\"]).round()\n",
    "TE = plot_df[\"TE consumption\"].round()\n",
    "labels = plot_df.index\n",
    "\n",
    "\n",
    "x = np.arange(len(labels))  # the label locations\n",
    "width = 0.35  # the width of the bars\n",
    "\n",
    "fig, ax = plt.subplots(figsize = (16,8))\n",
    "rects1 = ax.bar(x - width/2, RE, width, label='Renewable Energy')\n",
    "rects2 = ax.bar(x + width/2, TE, width, label='Total Energy')\n",
    "\n",
    "# Add some text for labels, title and custom x-axis tick labels, etc.\n",
    "ax.set_ylabel('Consumption')\n",
    "ax.set_title('Energy Consumption per Year')\n",
    "ax.set_xticks(x)\n",
    "ax.set_xticklabels(labels)\n",
    "ax.legend()\n",
    "\n",
    "\n",
    "def autolabel(rects):\n",
    "    \"\"\"Attach a text label above each bar in *rects*, displaying its height.\"\"\"\n",
    "    for rect in rects:\n",
    "        height = rect.get_height()\n",
    "        ax.annotate('{}'.format(height),\n",
    "                    xy=(rect.get_x() + rect.get_width() / 2, height),\n",
    "                    xytext=(0, 3),  # 3 points vertical offset\n",
    "                    textcoords=\"offset points\",\n",
    "                    ha='center', va='bottom')\n",
    "\n",
    "\n",
    "autolabel(rects1)\n",
    "autolabel(rects2)"
   ]
  },
  {
   "cell_type": "markdown",
   "metadata": {},
   "source": [
    "##### Interpretation\n",
    "\n",
    "This is a bar graph with time on the x axis and energy consumption on the y axis that compares renewable energy consumption to total energy consumption over the past ten years. It seems from this graph that consumption has remained relatively constant, but that iin 2019 renewable energy was less affected by a reduction in energy consumption."
   ]
  },
  {
   "cell_type": "code",
   "execution_count": null,
   "metadata": {},
   "outputs": [],
   "source": []
  },
  {
   "cell_type": "markdown",
   "metadata": {},
   "source": [
    "### &emsp; 3.3 Model Constuction"
   ]
  },
  {
   "cell_type": "markdown",
   "metadata": {},
   "source": [
    "#### _One-way ANOVA/Hypothesis Testing_"
   ]
  },
  {
   "cell_type": "code",
   "execution_count": 837,
   "metadata": {},
   "outputs": [],
   "source": [
    "def get_onewayANOVA(df, IV1, IV2):\n",
    "    \n",
    "    df1 = 1\n",
    "    df2 = len(IV1)-1\n",
    "    \n",
    "    \n",
    "    f_results = stats.f_oneway(df[IV1], df[IV2])\n",
    "\n",
    "    f_stat = format(f_results[0],\".02f\") #pulls/formats f stat from one way\n",
    "    p_val = format(f_results[1], \".04f\") #pulls/formats p val from one way\n",
    "    \n",
    "    print(\"F(%s,%s) = %s, p = %s\" % (df1, df2, f_stat, p_val)) #ftest report\n",
    "    \n",
    "    \n",
    "    descriptives = df[IV1].agg([\"mean\", \"sem\"])\n",
    "    print(IV1, \"mean:\", round(descriptives[0],100), \"\\nMSE:\", round(descriptives[1],4))\n",
    "    descriptives = df[IV2].agg([\"mean\", \"sem\"])\n",
    "    print(IV1, \"mean:\", round(descriptives[0],100), \"\\nMSE:\", round(descriptives[1],4))\n"
   ]
  },
  {
   "cell_type": "code",
   "execution_count": 838,
   "metadata": {},
   "outputs": [
    {
     "name": "stdout",
     "output_type": "stream",
     "text": [
      "F(1,10) = 0.21, p = 0.6475\n",
      "QCLN return mean: 1.2776747472387727e-08 \n",
      "MSE: 0.0\n",
      "QCLN return mean: 3.690582070564169e-08 \n",
      "MSE: 0.0\n"
     ]
    }
   ],
   "source": [
    "#First Question/Hypothesis\n",
    "#H1 = the renewable energy index and the price of oil grow at the same rate\n",
    "\n",
    "get_onewayANOVA(normalized_df, \"QCLN return\", \"oil growth\")"
   ]
  },
  {
   "cell_type": "code",
   "execution_count": 839,
   "metadata": {},
   "outputs": [
    {
     "name": "stdout",
     "output_type": "stream",
     "text": [
      "F(1,10) = 1.12, p = 0.2903\n",
      "QCLN return mean: 1.2776747472387727e-08 \n",
      "MSE: 0.0\n",
      "QCLN return mean: 6.511875892686129e-08 \n",
      "MSE: 0.0\n"
     ]
    }
   ],
   "source": [
    "#Third question/Hypothesis\n",
    "#H1 = the renewable energy index and the  market index grow at the same rate\n",
    "get_onewayANOVA(normalized_df, \"QCLN return\", \"NDAQ return\")"
   ]
  },
  {
   "cell_type": "code",
   "execution_count": 840,
   "metadata": {},
   "outputs": [
    {
     "name": "stdout",
     "output_type": "stream",
     "text": [
      "F(1,10) = 0.07, p = 0.7923\n",
      "QCLN return mean: 1.2776747472387727e-08 \n",
      "MSE: 0.0\n",
      "QCLN return mean: -2.1614132113338964e-10 \n",
      "MSE: 0.0\n"
     ]
    }
   ],
   "source": [
    "#Second Question/Hypothesis\n",
    "#1 = the renewable energy index and renewable energy consumption grow at different rates\n",
    "get_onewayANOVA(normalized_df, \"QCLN return\", \"RE growth\")"
   ]
  },
  {
   "cell_type": "markdown",
   "metadata": {},
   "source": [
    "#### _Machine Learning_"
   ]
  },
  {
   "cell_type": "code",
   "execution_count": 841,
   "metadata": {},
   "outputs": [],
   "source": [
    "#create dictionary of the models that we will be using\n",
    "estimators = {\n",
    "    \"LinearRegression\": LinearRegression(),\n",
    "    \"Ridge\": Ridge(), \n",
    "    \"kNN\": KNeighborsRegressor(),\n",
    "    \"SVR\": SVR(gamma=\"scale\", C=1)}"
   ]
  },
  {
   "cell_type": "code",
   "execution_count": null,
   "metadata": {},
   "outputs": [],
   "source": []
  },
  {
   "cell_type": "code",
   "execution_count": 842,
   "metadata": {},
   "outputs": [],
   "source": [
    "#split the SCALED dataset into training and testing sets\n",
    "def split_the_dataset(features, target_var):\n",
    "    '''function:'''\n",
    "    X_train, X_test, y_train, y_test = train_test_split(features, target, random_state = 3000)\n",
    "\n",
    "    return X_train, X_test, y_train, y_test\n"
   ]
  },
  {
   "cell_type": "code",
   "execution_count": 843,
   "metadata": {},
   "outputs": [],
   "source": [
    "X_train_scaled, X_test_scaled, y_train, y_test = split_the_dataset(scaled_features, target)"
   ]
  },
  {
   "cell_type": "code",
   "execution_count": null,
   "metadata": {},
   "outputs": [],
   "source": []
  },
  {
   "cell_type": "code",
   "execution_count": 844,
   "metadata": {},
   "outputs": [],
   "source": [
    "#FEATURE SELECTION: run RFE in order to choose the most important featurs\n",
    "def RFE_feature_selection():\n",
    "    '''function:'''    \n",
    "    \n",
    "    select = RFE(DecisionTreeRegressor(random_state = 3000), n_features_to_select = 5)\n",
    "    \n",
    "    #fit  RFE selector to  training data\n",
    "    select.fit(X_train_scaled, y_train)\n",
    "\n",
    "    #transform the scaled training and testing sets in order to select most important features\n",
    "    X_train_selected = select.transform(X_train_scaled)\n",
    "    X_test_selected = select.transform(X_test_scaled)\n",
    "    \n",
    "    #set the model\n",
    "    model = LinearRegression().fit(X=X_train_selected, y=y_train)\n",
    "        \n",
    "    #iterate over all columns where feature was labeled True (i.e. mportant)\n",
    "    print(\"Selected features after RFE:\")\n",
    "    col_select = select.get_support(indices = True)\n",
    "    col_keep = features.columns[col_select]\n",
    "    for i in col_keep:\n",
    "        print(\"\\t\",i)\n",
    "    \n",
    "    return X_train_selected, X_test_selected"
   ]
  },
  {
   "cell_type": "code",
   "execution_count": 845,
   "metadata": {},
   "outputs": [
    {
     "name": "stdout",
     "output_type": "stream",
     "text": [
      "Selected features after RFE:\n",
      "\t Open\n",
      "\t Close\n",
      "\t Adj Close_y\n",
      "\t NDAQ return\n",
      "\t oil growth\n"
     ]
    }
   ],
   "source": [
    "X_train_selected, X_test_selected = RFE_feature_selection()"
   ]
  },
  {
   "cell_type": "code",
   "execution_count": null,
   "metadata": {},
   "outputs": [],
   "source": []
  },
  {
   "cell_type": "code",
   "execution_count": 846,
   "metadata": {},
   "outputs": [],
   "source": [
    "#run each model\n",
    "def regressors_percentage_split():\n",
    "    #function that iterates over several ML algorithms and finds their percentage-split\n",
    "        \n",
    "    for estimator_name, estimator_object in estimators.items():\n",
    "\n",
    "        model = estimator_object.fit(X=X_train_selected, y=y_train)\n",
    "        \n",
    "        R_train = r2_score(y_train, model.predict(X_train_selected))\n",
    "        R_test = r2_score(y_test, model.predict(X_test_selected))  \n",
    "        MSE_train = mean_squared_error(y_train, model.predict(X_train_selected))\n",
    "        MSE_test = mean_squared_error(y_test, model.predict(X_test_selected))\n",
    "        \n",
    "        print(estimator_name)\n",
    "        print(\"\\tR-squared value for training set: \", round(R_train,4))\n",
    "        print(\"\\tR-squared value for testing set: \", round(R_test,4))\n",
    "        print(\"\\tMSE value for training set: \", round(MSE_train,4))\n",
    "        print(\"\\tMSE value for testing set: \", round(MSE_test,4))\n",
    "        \n",
    "        "
   ]
  },
  {
   "cell_type": "markdown",
   "metadata": {},
   "source": [
    "### &emsp; 3.4. Model Evaluation"
   ]
  },
  {
   "cell_type": "markdown",
   "metadata": {},
   "source": [
    "#### _One-Way-ANOVA_\n",
    "\n",
    "The p-values for all of the one-way ANOVA performances were greater than 0.05, meaning there is no significant relationship and we fail to reject any of the null hypotheses, thus cannot accept any hypotheses."
   ]
  },
  {
   "cell_type": "markdown",
   "metadata": {},
   "source": [
    "#### _Machine Learning_"
   ]
  },
  {
   "cell_type": "code",
   "execution_count": 847,
   "metadata": {},
   "outputs": [
    {
     "name": "stdout",
     "output_type": "stream",
     "text": [
      "Selected features after RFE:\n",
      "\t Open\n",
      "\t Close\n",
      "\t Adj Close_y\n",
      "\t NDAQ return\n",
      "\t oil growth\n",
      "\n",
      "\n",
      "LinearRegression\n",
      "\tR-squared value for training set:  0.9292\n",
      "\tR-squared value for testing set:  0.9029\n",
      "\tMSE value for training set:  0.0003\n",
      "\tMSE value for testing set:  0.0004\n",
      "Ridge\n",
      "\tR-squared value for training set:  0.5003\n",
      "\tR-squared value for testing set:  0.3122\n",
      "\tMSE value for training set:  0.0025\n",
      "\tMSE value for testing set:  0.0028\n",
      "kNN\n",
      "\tR-squared value for training set:  0.5203\n",
      "\tR-squared value for testing set:  0.1826\n",
      "\tMSE value for training set:  0.0024\n",
      "\tMSE value for testing set:  0.0034\n",
      "SVR\n",
      "\tR-squared value for training set:  0.3601\n",
      "\tR-squared value for testing set:  0.0483\n",
      "\tMSE value for training set:  0.0031\n",
      "\tMSE value for testing set:  0.0039\n"
     ]
    }
   ],
   "source": [
    "#show results\n",
    "\n",
    "RFE_feature_selection()\n",
    "print(\"\\n\")\n",
    "regressors_percentage_split()\n"
   ]
  },
  {
   "cell_type": "markdown",
   "metadata": {},
   "source": [
    "**Interpretation:**\n",
    "\n",
    "Out of the four algorithms evaluated, LinearRegression had the best results with the R-squared value of 0.9265 and Mean Squared Error of 0.0002 on the testing set. This means that the strength between the model and the target variables, renewable energy stock return, is 92.65% and the average squared error between what the model predicted and what the actual value was in less than 1%. The model is somewhat underfitted, as the test set has a lower r squared score than the training set. Based off this information, we think this is a good model.\n",
    "\n",
    "\n",
    "The second best algorithm, but by around 60%, is the Ridge algorithm. This model had a strength of 31.22% on the target in the testing set, but an MSE less than 1% still. The model is underfitted.\n",
    "\n",
    "\n",
    "kNN and SVR both have less than 25% model strength on the target and are both very underfitted.\n"
   ]
  },
  {
   "cell_type": "markdown",
   "metadata": {},
   "source": [
    "### &emsp; 3.5. Model Optimization"
   ]
  },
  {
   "cell_type": "code",
   "execution_count": 848,
   "metadata": {},
   "outputs": [],
   "source": [
    "\n",
    "def kcross_LinearRegression():\n",
    "    #function to tune kNN regression algorithm for best parameters, yields, and performance\n",
    "    \n",
    "    grid_search = GridSearchCV(Ridge(), param_grid, cv=5)\n",
    "    grid_search.fit(X=X_train_selected, y=y_train)\n",
    "    \n",
    "\n",
    "    #find best paramaters\n",
    "    print(\"Best parameters: \", grid_search.best_params_)\n",
    "    \n",
    "    return grid_search"
   ]
  },
  {
   "cell_type": "code",
   "execution_count": 849,
   "metadata": {},
   "outputs": [],
   "source": [
    "# define the parameter values that should be searched\n",
    "r = uniform.rvs(0,2,size=100)\n",
    "param_grid = {\"alpha\":r}"
   ]
  },
  {
   "cell_type": "code",
   "execution_count": 850,
   "metadata": {},
   "outputs": [],
   "source": [
    "\n",
    "def grid_search_Ridge():\n",
    "    #function to tune kNN regression algorithm for best parameters, yields, and performance\n",
    "    \n",
    "    grid_search = GridSearchCV(Ridge(), param_grid, cv=5)\n",
    "    grid_search.fit(X=X_train_selected, y=y_train)\n",
    "    \n",
    "\n",
    "    #find best paramaters\n",
    "    print(\"Best parameters: \", grid_search.best_params_)\n",
    "    \n",
    "    return grid_search"
   ]
  },
  {
   "cell_type": "code",
   "execution_count": 851,
   "metadata": {},
   "outputs": [
    {
     "name": "stdout",
     "output_type": "stream",
     "text": [
      "Best parameters:  {'alpha': 0.004325340675418676}\n"
     ]
    },
    {
     "name": "stderr",
     "output_type": "stream",
     "text": [
      "/Users/monicahealy/anaconda3/lib/python3.7/site-packages/sklearn/model_selection/_search.py:813: DeprecationWarning:\n",
      "\n",
      "The default of the `iid` parameter will change from True to False in version 0.22 and will be removed in 0.24. This will change numeric results when test-set sizes are unequal.\n",
      "\n"
     ]
    }
   ],
   "source": [
    "Ridge_tuned = grid_search_Ridge()"
   ]
  },
  {
   "cell_type": "markdown",
   "metadata": {},
   "source": [
    "##### Rationale:\n",
    "\n",
    "\n",
    "For the linear regression model it does not make sense to perform hyperparamater tuning because we have alread selected the number of features during RFE and we also already scaled the data - Linear Regression hyperparamaters are all relating to those two concepts.\n",
    "\n",
    "\n",
    "We instead took the second best performing model, the Ridge algorithm, and tested out different alphas in order to tune it. The default alpha is 1, and after trying out 100 random values between 0 and 1, GridSerch found an alpha of 0.0409... to be the optimal parameter value. This means that the result of the hyperparamter tuning was to avoid overfitting, as reducing the alpha reduces the models complexicity.\n"
   ]
  },
  {
   "cell_type": "markdown",
   "metadata": {},
   "source": [
    "### &emsp; 3.6. Model Testing"
   ]
  },
  {
   "cell_type": "code",
   "execution_count": 852,
   "metadata": {},
   "outputs": [],
   "source": [
    "def test_tunedRidge():\n",
    "    #function that iterates over several ML algorithms and finds their percentage-split\n",
    "        \n",
    "        model = Ridge_tuned.fit(X=X_train_selected, y=y_train)\n",
    "        R_train = r2_score(y_train, model.predict(X_train_selected))\n",
    "        R_test = r2_score(y_test, model.predict(X_test_selected))  \n",
    "        MSE_train = mean_squared_error(y_train, model.predict(X_train_selected))\n",
    "        MSE_test = mean_squared_error(y_test, model.predict(X_test_selected))\n",
    "        \n",
    "        print(\"\\tR-squared value for training set: \", round(R_train,4))\n",
    "        print(\"\\tR-squared value for testing set: \", round(R_test,4))\n",
    "        print(\"\\tMSE value for training set: \", round(MSE_train,4))\n",
    "        print(\"\\tMSE value for testing set: \", round(MSE_test,4))\n"
   ]
  },
  {
   "cell_type": "code",
   "execution_count": 853,
   "metadata": {},
   "outputs": [
    {
     "name": "stdout",
     "output_type": "stream",
     "text": [
      "\tR-squared value for training set:  0.9288\n",
      "\tR-squared value for testing set:  0.9101\n",
      "\tMSE value for training set:  0.0003\n",
      "\tMSE value for testing set:  0.0004\n"
     ]
    },
    {
     "name": "stderr",
     "output_type": "stream",
     "text": [
      "/Users/monicahealy/anaconda3/lib/python3.7/site-packages/sklearn/model_selection/_search.py:813: DeprecationWarning:\n",
      "\n",
      "The default of the `iid` parameter will change from True to False in version 0.22 and will be removed in 0.24. This will change numeric results when test-set sizes are unequal.\n",
      "\n"
     ]
    }
   ],
   "source": [
    "test_tunedRidge()"
   ]
  },
  {
   "cell_type": "markdown",
   "metadata": {},
   "source": [
    "### 4. Discussion"
   ]
  },
  {
   "cell_type": "markdown",
   "metadata": {},
   "source": [
    "#### _Summary_\n",
    "In summary, we took data on monthly historical stock data on renewable energy index \"QCLN\" merged with the monthly price of the NASDAQ, renewable  monthly energy and total monthly energy consumption, and average monthly oil prices, and engineered new data columns for the growth rate on the price of QCLN/NDAQ/Oil, and energy consumptions.\n",
    "\n",
    "From that data, we scaled it using MinMaxScaler, split it into training and testing sets, and then using those sets applied RFE to iterate and extract the five most important features of the data set.\n",
    "\n",
    "The training and testing set of the data using only those five feature was then used in four different machine learning algorithms, LinearRegression, Ridge, KNeighborsRegressor, and Support Vector Regression. The r-squared score and mean squared error of each model on the training and testing set was used to select the best algorithms to be hypertuned using GridSeachCV\n",
    "\n",
    "The data was also used to perform One-Way ANOVAs on the hypotheses stated in the beginning of the report. The data was first normalized and the p value was found in order to determine significance.\n",
    "\n",
    "#### _Interpretation_\n",
    "\n",
    "We compared the LinearRegression, Ridge, KNeighborsRegressor, and Support Vector Regression machine learning algorithms. LinearRegression by far had the best performance. This is not surprising considering that the data was based on time series. The Ridge algorithm performed second best, but by significantly less. However, when we tuned the Ridge algorithm by testing new alphas, the Ridge algorithm performed better in terms of r-squared score than the LinearRegression model on the testing set (91.01% and 90.20% respectively).\n",
    "\n",
    "\n",
    "The Ridge tuning brought the alpha parameter very low though, thus the model is not very complex. For this reason, the time-series nature of the data, and the r-squared performance, we reccomend using the LinearRegression model.\n",
    "\n",
    "\n",
    "The One-Way ANOVAs failed to reject any null hypotheses as there were not any significant differences between the means of each independant variable, the p-value was signifcantly above 0.05 for all. Thus we do not reccomend making investment decisions regarding renewable energy stocks soley based on oil prices, overall market performance, or renewable energy consumption.\n",
    "\n",
    "Another point of discussion is the variable that were selected after RFE was performed. The most important variables were determined to be the open and close price of the QCLN index (\"Open\", \"Close), the adjusted \t close price and return of of the NASDAQ index (\"Adj Close_y\", \"NDAQ return\"), and the growth rate of oil prices (\"oil growth). We found it surprising that oil prices were more important to the model than renewable energy consumption.\n",
    "\n",
    "#### _Future Work_\n",
    "We recomemend for future work looking into more qualitative factors that may effect renewable energy stocks. For example, a sentiment analysis on tweets regarding renewable energy, law and legislation or tax incentives passed regarding renewable energy, etc. While we recommend more data in regards to more variables, we do not recommend more data in terms of going further back in history. This is because the volatility beyond ten years for renewable energy is so high that it skews the data\n",
    "\n",
    "In addition to more variables, we would suggest doing research more focused on correlations before going into causation. As seen in our project causation tests were not very useful considering the nature of the stock market.\n",
    "\n",
    "It would also be interesting to look into why there is correlation between the QCLN index price and several of the variables we chose, but not the return of the index."
   ]
  },
  {
   "cell_type": "code",
   "execution_count": null,
   "metadata": {},
   "outputs": [],
   "source": []
  }
 ],
 "metadata": {
  "kernelspec": {
   "display_name": "Python 3",
   "language": "python",
   "name": "python3"
  },
  "language_info": {
   "codemirror_mode": {
    "name": "ipython",
    "version": 3
   },
   "file_extension": ".py",
   "mimetype": "text/x-python",
   "name": "python",
   "nbconvert_exporter": "python",
   "pygments_lexer": "ipython3",
   "version": "3.8.8"
  }
 },
 "nbformat": 4,
 "nbformat_minor": 2
}
